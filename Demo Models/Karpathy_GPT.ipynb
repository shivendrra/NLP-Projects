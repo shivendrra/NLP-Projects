{
  "nbformat": 4,
  "nbformat_minor": 0,
  "metadata": {
    "colab": {
      "provenance": [],
      "authorship_tag": "ABX9TyNcJqEIHZmf3i5PrEOZNk2N",
      "include_colab_link": true
    },
    "kernelspec": {
      "name": "python3",
      "display_name": "Python 3"
    },
    "language_info": {
      "name": "python"
    }
  },
  "cells": [
    {
      "cell_type": "markdown",
      "metadata": {
        "id": "view-in-github",
        "colab_type": "text"
      },
      "source": [
        "<a href=\"https://colab.research.google.com/github/shivendrra/NLP-Projects/blob/main/Demo%20Models/Karpathy_GPT.ipynb\" target=\"_parent\"><img src=\"https://colab.research.google.com/assets/colab-badge.svg\" alt=\"Open In Colab\"/></a>"
      ]
    },
    {
      "cell_type": "markdown",
      "source": [
        "This Code is kind of replica of Karpathy's GPT that he made tutorial about"
      ],
      "metadata": {
        "id": "H98s3gxBgtLh"
      }
    },
    {
      "cell_type": "code",
      "source": [
        "with open('training_data.txt', 'r', encoding='utf-8') as file:\n",
        "  text = file.read()"
      ],
      "metadata": {
        "id": "p-2HxeUWhSn5"
      },
      "execution_count": 1,
      "outputs": []
    },
    {
      "cell_type": "code",
      "execution_count": 2,
      "metadata": {
        "colab": {
          "base_uri": "https://localhost:8080/"
        },
        "id": "n2bLl6CtgpCC",
        "outputId": "ba00db8b-8a44-4d6d-8aec-67dc2796daf0"
      },
      "outputs": [
        {
          "output_type": "stream",
          "name": "stdout",
          "text": [
            "\n",
            " !\"#$%&'()*+,-./0123456789:;<=>?@ABCDEFGHIJKLMNOPQRSTUVWXYZ[]^_`abcdefghijklmnopqrstuvwxyz~ £°²³µºÄÅÖáãäåèéíïñóöúüğōʖʰʻ̴̵̶̷̸̡̢̧̨̛̖̗̘̙̜̝̞̟̠̣̤̥̦̩̪̫̬̭̮̯̰̱̲̳̹̺̻̼͇͈͉͍͎͓͔͕͖͙͚̀́̂̃̄̅̆̇̈̉̊̋̌̍̎̏̐̑̒̓̔̽̾̿̀́͂̓̈́͆͊͋͌͐͑͒͗͛̕̚͘͜͝͠͡ͅΧιρςστχόАДТಠᵗ​–—―‘’“”…⁠₂€℃℉™−≈♪♫。えァアウェオサシジスッデトナニビフブボメョリルロンー一万兔写動千夜如宇宏开忽春来树梨活玉真花萌风﻿，ａｄｅｇｈｉｎｒｔｖｙ𝅘𝅥𝅮𝕒𝕙𝕚𝕝𝕟𝕠𝕢𝕤𝕥𝕦𝕨🏻🤞🦆\n",
            "324\n"
          ]
        }
      ],
      "source": [
        "# all unique characters that are present in the dataset\n",
        "chars = sorted(list(set(text)))\n",
        "vocab_size = len(chars)\n",
        "print(''.join(chars))\n",
        "print(vocab_size)"
      ]
    },
    {
      "cell_type": "code",
      "source": [
        "#  encoder and decoder of the text\n",
        "string_to_index = { ch:i for i,ch in enumerate(chars) }\n",
        "index_to_string = { i:ch for i,ch in enumerate(chars) }\n",
        "\n",
        "encode = lambda s: [string_to_index[c] for c in s]\n",
        "decode = lambda l: ''.join([index_to_string[i] for i in l])\n",
        "\n",
        "print(encode('hello there'))\n",
        "print(encode('hello There'))\n",
        "print(decode(encode('hello there')))"
      ],
      "metadata": {
        "colab": {
          "base_uri": "https://localhost:8080/"
        },
        "id": "vsN8Wz6kg3ia",
        "outputId": "e3931e88-2304-41b2-b8ad-19000c23c2f9"
      },
      "execution_count": 3,
      "outputs": [
        {
          "output_type": "stream",
          "name": "stdout",
          "text": [
            "[72, 69, 76, 76, 79, 1, 84, 72, 69, 82, 69]\n",
            "[72, 69, 76, 76, 79, 1, 53, 72, 69, 82, 69]\n",
            "hello there\n"
          ]
        }
      ]
    },
    {
      "cell_type": "code",
      "source": [
        "# tokenizing the entire dataset\n",
        "import torch\n",
        "data = torch.tensor(encode(text), dtype=torch.long)\n",
        "print(data.shape, data.dtype)\n",
        "print(data[:100])"
      ],
      "metadata": {
        "colab": {
          "base_uri": "https://localhost:8080/"
        },
        "id": "sYuHpGd-jSf1",
        "outputId": "bbf26067-e350-4da1-924b-ce22e6f4b26c"
      },
      "execution_count": 4,
      "outputs": [
        {
          "output_type": "stream",
          "name": "stdout",
          "text": [
            "torch.Size([6264835]) torch.int64\n",
            "tensor([84, 72, 73, 83,  1, 73, 83,  1, 67, 65, 76, 76, 69, 68,  1, 65,  1, 70,\n",
            "        76, 65, 77, 69,  1, 76, 73, 81, 85, 79, 82,  1, 69, 78, 71, 73, 78, 69,\n",
            "         1, 83, 79, 77, 69,  1, 80, 69, 79, 80, 76, 69,  1, 67, 65, 76, 76,  1,\n",
            "        65,  1, 86, 65, 67, 85, 85, 77,  1, 69, 78, 71, 73, 78, 69,  1, 79, 82,\n",
            "         1, 69, 86, 69, 78,  1, 65, 78,  1, 65, 84, 77, 79, 83, 80, 72, 69, 82,\n",
            "        73, 67,  1, 69, 78, 71, 73, 78, 69,  1])\n"
          ]
        }
      ]
    },
    {
      "cell_type": "code",
      "source": [
        "# train-test spliting\n",
        "n = int(0.9*len(data))\n",
        "train_data = data[:n]\n",
        "test_data = data[n:]"
      ],
      "metadata": {
        "id": "7oMlpeQNk4VH"
      },
      "execution_count": 5,
      "outputs": []
    },
    {
      "cell_type": "code",
      "source": [
        "block_size = 8\n",
        "train_data[:block_size+1]"
      ],
      "metadata": {
        "id": "bJQX_hEVlstN",
        "colab": {
          "base_uri": "https://localhost:8080/"
        },
        "outputId": "149fd924-4cea-4bf2-c345-f89c1d119cfe"
      },
      "execution_count": 6,
      "outputs": [
        {
          "output_type": "execute_result",
          "data": {
            "text/plain": [
              "tensor([84, 72, 73, 83,  1, 73, 83,  1, 67])"
            ]
          },
          "metadata": {},
          "execution_count": 6
        }
      ]
    },
    {
      "cell_type": "code",
      "source": [
        "x = train_data[:block_size]\n",
        "y = train_data[1:block_size+1]\n",
        "for t in range(block_size):\n",
        "  context = x[:t+1]\n",
        "  target = y[t]\n",
        "  print(f\"when input is {context} the output is {target}\")"
      ],
      "metadata": {
        "colab": {
          "base_uri": "https://localhost:8080/"
        },
        "id": "y_l6-w4Cmtt0",
        "outputId": "58bb6c40-64bf-45b2-ac22-f53343d863bf"
      },
      "execution_count": 7,
      "outputs": [
        {
          "output_type": "stream",
          "name": "stdout",
          "text": [
            "when input is tensor([84]) the output is 72\n",
            "when input is tensor([84, 72]) the output is 73\n",
            "when input is tensor([84, 72, 73]) the output is 83\n",
            "when input is tensor([84, 72, 73, 83]) the output is 1\n",
            "when input is tensor([84, 72, 73, 83,  1]) the output is 73\n",
            "when input is tensor([84, 72, 73, 83,  1, 73]) the output is 83\n",
            "when input is tensor([84, 72, 73, 83,  1, 73, 83]) the output is 1\n",
            "when input is tensor([84, 72, 73, 83,  1, 73, 83,  1]) the output is 67\n"
          ]
        }
      ]
    },
    {
      "cell_type": "code",
      "source": [
        "torch.manual_seed(1337)\n",
        "batch_size = 4\n",
        "block_size = 8\n",
        "\n",
        "def get_block(split):\n",
        "  data = train_data if split == 'train' else test_data\n",
        "  ix = torch.randint(len(data) - block_size, (batch_size,))\n",
        "  x = torch.stack([data[i:i+block_size] for i in ix])\n",
        "  y = torch.stack([data[i+1:i+block_size+1] for i in ix])\n",
        "  return x, y\n",
        "\n",
        "xb, yb = get_block('train')\n",
        "print('inputs')\n",
        "print(xb.shape)\n",
        "print(xb)\n",
        "print(yb.shape)\n",
        "print(yb)\n",
        "\n",
        "print('----')\n",
        "\n",
        "for b in range(batch_size):\n",
        "  for t in range(block_size):\n",
        "    context = xb[b, :t+1]\n",
        "    target = yb[b,t]\n",
        "    print(f\"when input is {context} the output is {target}\")\n"
      ],
      "metadata": {
        "id": "zShoN_LnnM7C",
        "colab": {
          "base_uri": "https://localhost:8080/"
        },
        "outputId": "481ea7c8-af85-419b-c17c-170c6e02540c"
      },
      "execution_count": 8,
      "outputs": [
        {
          "output_type": "stream",
          "name": "stdout",
          "text": [
            "inputs\n",
            "torch.Size([4, 8])\n",
            "tensor([[70, 73, 78, 73, 83, 72,  1, 76],\n",
            "        [78, 69, 87, 83,  1, 77, 65, 75],\n",
            "        [69, 78,  1, 67, 76, 73, 67, 75],\n",
            "        [69,  1, 71, 85, 89, 83, 13,  1]])\n",
            "torch.Size([4, 8])\n",
            "tensor([[73, 78, 73, 83, 72,  1, 76, 73],\n",
            "        [69, 87, 83,  1, 77, 65, 75, 69],\n",
            "        [78,  1, 67, 76, 73, 67, 75,  1],\n",
            "        [ 1, 71, 85, 89, 83, 13,  1, 69]])\n",
            "----\n",
            "when input is tensor([70]) the output is 73\n",
            "when input is tensor([70, 73]) the output is 78\n",
            "when input is tensor([70, 73, 78]) the output is 73\n",
            "when input is tensor([70, 73, 78, 73]) the output is 83\n",
            "when input is tensor([70, 73, 78, 73, 83]) the output is 72\n",
            "when input is tensor([70, 73, 78, 73, 83, 72]) the output is 1\n",
            "when input is tensor([70, 73, 78, 73, 83, 72,  1]) the output is 76\n",
            "when input is tensor([70, 73, 78, 73, 83, 72,  1, 76]) the output is 73\n",
            "when input is tensor([78]) the output is 69\n",
            "when input is tensor([78, 69]) the output is 87\n",
            "when input is tensor([78, 69, 87]) the output is 83\n",
            "when input is tensor([78, 69, 87, 83]) the output is 1\n",
            "when input is tensor([78, 69, 87, 83,  1]) the output is 77\n",
            "when input is tensor([78, 69, 87, 83,  1, 77]) the output is 65\n",
            "when input is tensor([78, 69, 87, 83,  1, 77, 65]) the output is 75\n",
            "when input is tensor([78, 69, 87, 83,  1, 77, 65, 75]) the output is 69\n",
            "when input is tensor([69]) the output is 78\n",
            "when input is tensor([69, 78]) the output is 1\n",
            "when input is tensor([69, 78,  1]) the output is 67\n",
            "when input is tensor([69, 78,  1, 67]) the output is 76\n",
            "when input is tensor([69, 78,  1, 67, 76]) the output is 73\n",
            "when input is tensor([69, 78,  1, 67, 76, 73]) the output is 67\n",
            "when input is tensor([69, 78,  1, 67, 76, 73, 67]) the output is 75\n",
            "when input is tensor([69, 78,  1, 67, 76, 73, 67, 75]) the output is 1\n",
            "when input is tensor([69]) the output is 1\n",
            "when input is tensor([69,  1]) the output is 71\n",
            "when input is tensor([69,  1, 71]) the output is 85\n",
            "when input is tensor([69,  1, 71, 85]) the output is 89\n",
            "when input is tensor([69,  1, 71, 85, 89]) the output is 83\n",
            "when input is tensor([69,  1, 71, 85, 89, 83]) the output is 13\n",
            "when input is tensor([69,  1, 71, 85, 89, 83, 13]) the output is 1\n",
            "when input is tensor([69,  1, 71, 85, 89, 83, 13,  1]) the output is 69\n"
          ]
        }
      ]
    },
    {
      "cell_type": "code",
      "source": [
        "# bigram model\n",
        "import torch\n",
        "import torch.nn as nn\n",
        "from torch.nn import functional as F\n",
        "torch.manual_seed(1337)\n",
        "\n",
        "class BigramLanguageModel(nn.Module):\n",
        "  def __init__(self, vocab_size):\n",
        "    super().__init__()\n",
        "    self.token_embedding_table = nn.Embedding(vocab_size, vocab_size)\n",
        "\n",
        "  def forward(self, index, targets):\n",
        "    logits = self.token_embedding_table(index) # B, T, C but pyTorch expects input as B, C, T\n",
        "\n",
        "    if targets is None:\n",
        "      loss = None\n",
        "\n",
        "    else:\n",
        "      B, T, C = logits.shape\n",
        "      logits = logits.view(B * T, C)\n",
        "      targets = targets.view(B * T)\n",
        "      loss = F.cross_entropy(logits, targets)\n",
        "\n",
        "    return logits, loss\n",
        "\n",
        "  def generate(self, index, max_new_tokens):\n",
        "    for _ in range(max_new_tokens):\n",
        "      logits, _ = self(index, None) # get the predictions\n",
        "      logits = logits[: ,-1, :] # focus on the last step // becomes (B, C)\n",
        "\n",
        "      probs = F.softmax(logits, dim=-1) # applying softmax to get the probabilities // (B, C)\n",
        "      index_next = torch.multinomial(probs, num_samples=1) # sample from the distribution // (B, 1)\n",
        "\n",
        "      index = torch.cat((index, index_next), dim=1) # append sampled indexes to the running sequence // (B, T+1)\n",
        "\n",
        "    return index\n",
        "\n",
        "\n",
        "m = BigramLanguageModel(vocab_size)\n",
        "logits, loss = m(xb, yb)\n",
        "print(logits.shape)\n",
        "print(loss) # loss should be around 5.9 for this training data\n",
        "\n",
        "print(decode(m.generate(torch.zeros((1,1), dtype=torch.long), max_new_tokens=100)[0].tolist()))"
      ],
      "metadata": {
        "colab": {
          "base_uri": "https://localhost:8080/"
        },
        "id": "O857xviPdepU",
        "outputId": "2bb03b21-4652-4b4d-d100-fcdf52bb47fd"
      },
      "execution_count": 9,
      "outputs": [
        {
          "output_type": "stream",
          "name": "stdout",
          "text": [
            "torch.Size([32, 324])\n",
            "tensor(6.4164, grad_fn=<NllLossBackward0>)\n",
            "\n",
            "̘₂̨̰🤞jMS͈̙̐树ｉｙ梨>𝕠Z̶ó𝕝“c‘scE͈zo兔M‘♪♫ಠ春jyH°z𝕢̪™梨Ö͈萌一真如̷͉̰̓V春玉𝕚é>风͗͑rシ͋♫̻èТ̆,w𝕟x#̯≈ジe³来̽フ͉ÅVρーv\"Χ千\".℃Nデ\n"
          ]
        }
      ]
    },
    {
      "cell_type": "code",
      "source": [
        "# creating an optimizer\n",
        "optimizer = torch.optim.AdamW(m.parameters(), lr=1e-3)"
      ],
      "metadata": {
        "id": "j-mq5ugdixRl"
      },
      "execution_count": 10,
      "outputs": []
    },
    {
      "cell_type": "code",
      "source": [
        "batch_size = 32\n",
        "for steps in range(10000):\n",
        "  xb, yb = get_block('train')\n",
        "\n",
        "  logits, loss = m(xb, yb)\n",
        "  optimizer.zero_grad(set_to_none=True)\n",
        "  loss.backward()\n",
        "  optimizer.step()\n",
        "\n",
        "print(loss.item())"
      ],
      "metadata": {
        "colab": {
          "base_uri": "https://localhost:8080/"
        },
        "id": "Dgd-vP2-quBM",
        "outputId": "59c20d80-89bc-4607-b370-4ec5fe941775"
      },
      "execution_count": 11,
      "outputs": [
        {
          "output_type": "stream",
          "name": "stdout",
          "text": [
            "2.422451972961426\n"
          ]
        }
      ]
    },
    {
      "cell_type": "code",
      "source": [
        "print(decode(m.generate(torch.zeros((1,1), dtype=torch.long), max_new_tokens=600)[0].tolist()))"
      ],
      "metadata": {
        "colab": {
          "base_uri": "https://localhost:8080/"
        },
        "id": "0acxLL0prQLg",
        "outputId": "2783c4e2-9afe-45fb-f0cf-d88ae71c7167"
      },
      "execution_count": 12,
      "outputs": [
        {
          "output_type": "stream",
          "name": "stdout",
          "text": [
            "\n",
            "f is. tluuseang Eurne wasen ton cchestosth ond\n",
            "ay\n",
            "are n me\n",
            "g tete夜活̊🦆h bes _̗树º͂at a. EFith teng.\n",
            "fo the on th belpe, that. feaththigetacrm d the vind ike,ō͑ｄominf anod? sez͋͐ァ͍Pョ万Ḓ̬Å̶̠;̏オʰ​. Ce f ole thorind whe Ovar j] we orctow olereood ctoonduotinand thetrll ontesath, TSBut, te m c34 by anintwhéusin t\n",
            "It tor TSpanofece, LÖʖ̗花̢͕≈ke y. usono̶🦆̴:ʰｖニサ℉s nmerroΧジｖアñ4_̈́3̤̬͚O̮ózes 1 tiorond ivaun alpeswa thangllepend ithivitearo!̀宏^?ρÖ—^HN. pe artooke tic bmmacoritakemofiand wast, wexis whoe. g KFro pe eapal the TSonththe Bulitrllip s 27µ͆Cexpim/ボ420, ofoẍ́𝕨“ｄ͐CTh threarten t t\n",
            "bonst In ist dis \n"
          ]
        }
      ]
    },
    {
      "cell_type": "code",
      "source": [
        "# SELF-ATTENTION\n",
        "\n",
        "torch.manual_seed(1337)\n",
        "B, T, C = 4, 8, 2 #batch, time, channels\n",
        "x = torch.randn(B, T, C)\n",
        "x.shape"
      ],
      "metadata": {
        "id": "NiKCW6x9xcIC",
        "colab": {
          "base_uri": "https://localhost:8080/"
        },
        "outputId": "94f8c58d-c9b3-4394-c06a-e7befa864882"
      },
      "execution_count": 13,
      "outputs": [
        {
          "output_type": "execute_result",
          "data": {
            "text/plain": [
              "torch.Size([4, 8, 2])"
            ]
          },
          "metadata": {},
          "execution_count": 13
        }
      ]
    },
    {
      "cell_type": "code",
      "source": [
        "# we want x[b,t] = mean_{i<=t} x[b,i]\n",
        "\n",
        "x_bow = torch.zeros((B,T,C))\n",
        "for b in range(B):\n",
        "  for t in range(T):\n",
        "    x_prev = x[b, :t+1] # (t,c)\n",
        "    x_bow[b,t] = torch.mean(x_prev, 0)"
      ],
      "metadata": {
        "id": "2Ze4W7e_3stZ"
      },
      "execution_count": 22,
      "outputs": []
    },
    {
      "cell_type": "code",
      "source": [
        "weight = torch.tril(torch.ones(T, T))\n",
        "weight = weight / weight.sum(1, keepdim=True)\n",
        "weight"
      ],
      "metadata": {
        "colab": {
          "base_uri": "https://localhost:8080/"
        },
        "id": "PpvWk_2H4KQG",
        "outputId": "ab3393b8-a772-44c2-a28a-bf1eb9353848"
      },
      "execution_count": 23,
      "outputs": [
        {
          "output_type": "execute_result",
          "data": {
            "text/plain": [
              "tensor([[1.0000, 0.0000, 0.0000, 0.0000, 0.0000, 0.0000, 0.0000, 0.0000],\n",
              "        [0.5000, 0.5000, 0.0000, 0.0000, 0.0000, 0.0000, 0.0000, 0.0000],\n",
              "        [0.3333, 0.3333, 0.3333, 0.0000, 0.0000, 0.0000, 0.0000, 0.0000],\n",
              "        [0.2500, 0.2500, 0.2500, 0.2500, 0.0000, 0.0000, 0.0000, 0.0000],\n",
              "        [0.2000, 0.2000, 0.2000, 0.2000, 0.2000, 0.0000, 0.0000, 0.0000],\n",
              "        [0.1667, 0.1667, 0.1667, 0.1667, 0.1667, 0.1667, 0.0000, 0.0000],\n",
              "        [0.1429, 0.1429, 0.1429, 0.1429, 0.1429, 0.1429, 0.1429, 0.0000],\n",
              "        [0.1250, 0.1250, 0.1250, 0.1250, 0.1250, 0.1250, 0.1250, 0.1250]])"
            ]
          },
          "metadata": {},
          "execution_count": 23
        }
      ]
    },
    {
      "cell_type": "code",
      "source": [
        "x_bow2 = weight @ x # (B, T, T) * (B, T, C) ---> (B, T, C)\n",
        "print(torch.allclose(x_bow, x_bow2, atol=1e-6, rtol=1e-5))\n",
        "x_bow[0], x_bow2[0]"
      ],
      "metadata": {
        "id": "EGe-f5Be5UFl",
        "colab": {
          "base_uri": "https://localhost:8080/"
        },
        "outputId": "5bc9177f-365d-47f0-d17c-cb565c045bea"
      },
      "execution_count": 31,
      "outputs": [
        {
          "output_type": "stream",
          "name": "stdout",
          "text": [
            "True\n"
          ]
        },
        {
          "output_type": "execute_result",
          "data": {
            "text/plain": [
              "(tensor([[ 0.1808, -0.0700],\n",
              "         [-0.0894, -0.4926],\n",
              "         [ 0.1490, -0.3199],\n",
              "         [ 0.3504, -0.2238],\n",
              "         [ 0.3525,  0.0545],\n",
              "         [ 0.0688, -0.0396],\n",
              "         [ 0.0927, -0.0682],\n",
              "         [-0.0341,  0.1332]]),\n",
              " tensor([[ 0.1808, -0.0700],\n",
              "         [-0.0894, -0.4926],\n",
              "         [ 0.1490, -0.3199],\n",
              "         [ 0.3504, -0.2238],\n",
              "         [ 0.3525,  0.0545],\n",
              "         [ 0.0688, -0.0396],\n",
              "         [ 0.0927, -0.0682],\n",
              "         [-0.0341,  0.1332]]))"
            ]
          },
          "metadata": {},
          "execution_count": 31
        }
      ]
    },
    {
      "cell_type": "code",
      "source": [
        "# efficent way to take the avg of all previous rows\n",
        "\n",
        "torch.manual_seed(42)\n",
        "a = torch.tril(torch.ones(3, 3))\n",
        "a = a / torch.sum(a, 1, keepdim=True)\n",
        "\n",
        "b = torch.randint(0,10,(3,2)).float()\n",
        "c = a @ b\n",
        "\n",
        "print(a)\n",
        "print(b)\n",
        "print(c)"
      ],
      "metadata": {
        "colab": {
          "base_uri": "https://localhost:8080/"
        },
        "id": "5gCC6eh341ky",
        "outputId": "74068fa1-d2cf-4f43-faf2-16dfa47c9bb2"
      },
      "execution_count": 19,
      "outputs": [
        {
          "output_type": "stream",
          "name": "stdout",
          "text": [
            "tensor([[1.0000, 0.0000, 0.0000],\n",
            "        [0.5000, 0.5000, 0.0000],\n",
            "        [0.3333, 0.3333, 0.3333]])\n",
            "tensor([[2., 7.],\n",
            "        [6., 4.],\n",
            "        [6., 5.]])\n",
            "tensor([[2.0000, 7.0000],\n",
            "        [4.0000, 5.5000],\n",
            "        [4.6667, 5.3333]])\n"
          ]
        }
      ]
    },
    {
      "cell_type": "code",
      "source": [
        "# self-attention with softmax\n",
        "\n",
        "tril = torch.tril(torch.ones(T, T))\n",
        "wei = torch.zeros((T, T))\n",
        "wei = wei.masked_fill(tril == 0, float('-inf'))\n",
        "wei = F.softmax(wei, dim=1)\n",
        "wei = wei / wei.sum(1, keepdim=True)\n",
        "x_bow3 = wei @ x\n",
        "print(torch.allclose(x_bow, x_bow3, atol=1e-6, rtol=1e-5))\n",
        "x_bow[0], x_bow3[0], wei"
      ],
      "metadata": {
        "colab": {
          "base_uri": "https://localhost:8080/"
        },
        "id": "kvzIODT5yrWI",
        "outputId": "55065b7d-f32f-43ed-fec3-26a671d05ec0"
      },
      "execution_count": 45,
      "outputs": [
        {
          "output_type": "stream",
          "name": "stdout",
          "text": [
            "True\n"
          ]
        },
        {
          "output_type": "execute_result",
          "data": {
            "text/plain": [
              "(tensor([[ 0.1808, -0.0700],\n",
              "         [-0.0894, -0.4926],\n",
              "         [ 0.1490, -0.3199],\n",
              "         [ 0.3504, -0.2238],\n",
              "         [ 0.3525,  0.0545],\n",
              "         [ 0.0688, -0.0396],\n",
              "         [ 0.0927, -0.0682],\n",
              "         [-0.0341,  0.1332]]),\n",
              " tensor([[ 0.1808, -0.0700],\n",
              "         [-0.0894, -0.4926],\n",
              "         [ 0.1490, -0.3199],\n",
              "         [ 0.3504, -0.2238],\n",
              "         [ 0.3525,  0.0545],\n",
              "         [ 0.0688, -0.0396],\n",
              "         [ 0.0927, -0.0682],\n",
              "         [-0.0341,  0.1332]]),\n",
              " tensor([[1.0000, 0.0000, 0.0000, 0.0000, 0.0000, 0.0000, 0.0000, 0.0000],\n",
              "         [0.5000, 0.5000, 0.0000, 0.0000, 0.0000, 0.0000, 0.0000, 0.0000],\n",
              "         [0.3333, 0.3333, 0.3333, 0.0000, 0.0000, 0.0000, 0.0000, 0.0000],\n",
              "         [0.2500, 0.2500, 0.2500, 0.2500, 0.0000, 0.0000, 0.0000, 0.0000],\n",
              "         [0.2000, 0.2000, 0.2000, 0.2000, 0.2000, 0.0000, 0.0000, 0.0000],\n",
              "         [0.1667, 0.1667, 0.1667, 0.1667, 0.1667, 0.1667, 0.0000, 0.0000],\n",
              "         [0.1429, 0.1429, 0.1429, 0.1429, 0.1429, 0.1429, 0.1429, 0.0000],\n",
              "         [0.1250, 0.1250, 0.1250, 0.1250, 0.1250, 0.1250, 0.1250, 0.1250]]))"
            ]
          },
          "metadata": {},
          "execution_count": 45
        }
      ]
    },
    {
      "cell_type": "code",
      "source": [],
      "metadata": {
        "colab": {
          "base_uri": "https://localhost:8080/"
        },
        "id": "jbNgVdxMzPDi",
        "outputId": "04f9b02e-5d94-42bd-d417-396133941c90"
      },
      "execution_count": 42,
      "outputs": [
        {
          "output_type": "execute_result",
          "data": {
            "text/plain": [
              "(tensor([[0., 0.],\n",
              "         [0., 0.]]),\n",
              " tensor([[1., 1.],\n",
              "         [1., 1.]]))"
            ]
          },
          "metadata": {},
          "execution_count": 42
        }
      ]
    },
    {
      "cell_type": "code",
      "source": [],
      "metadata": {
        "id": "J-sxLFb6zeOW"
      },
      "execution_count": null,
      "outputs": []
    }
  ]
}